{
  "nbformat": 4,
  "nbformat_minor": 0,
  "metadata": {
    "colab": {
      "provenance": []
    },
    "kernelspec": {
      "name": "python3",
      "display_name": "Python 3"
    },
    "language_info": {
      "name": "python"
    }
  },
  "cells": [
    {
      "cell_type": "code",
      "execution_count": 1,
      "metadata": {
        "id": "q3yTYnwC4ZtR"
      },
      "outputs": [],
      "source": [
        "import numpy as np\n",
        "from tqdm import tqdm\n",
        "from pathlib import Path\n",
        "import matplotlib.pyplot as plt\n",
        "from sklearn.datasets import fetch_openml\n",
        "from sklearn.preprocessing import StandardScaler\n",
        "\n",
        "import torch\n",
        "import torch.nn as nn\n",
        "import torch.nn.functional as F\n",
        "import torch.optim as optim\n",
        "\n",
        "from transformers import PatchTSTConfig, PatchTSTForPrediction\n",
        "\n",
        "torch.set_default_dtype(torch.double)\n",
        "device = torch.device(\"cuda:0\" if torch.cuda.is_available() else \"cpu\")"
      ]
    },
    {
      "cell_type": "code",
      "source": [
        "def create_dataset(dataset, block_length, device=None):\n",
        "    X, Y = [], []\n",
        "    for i in range(len(dataset)-block_length):\n",
        "        x = dataset[i:i+block_length]\n",
        "        y = dataset[i+1:i+block_length+1]\n",
        "        X.append(x)\n",
        "        Y.append(y)\n",
        "    if device is not None:\n",
        "        return torch.tensor(X, dtype=torch.double).to(device), torch.tensor(Y, dtype=torch.double).to(device)\n",
        "    else:\n",
        "        return np.array(X), np.array(Y)"
      ],
      "metadata": {
        "id": "6IJ8Med0lQmd"
      },
      "execution_count": 2,
      "outputs": []
    },
    {
      "cell_type": "code",
      "source": [
        "# Compute self-influences\n",
        "\n",
        "def calculate_self_tracin(\n",
        "    model: torch.nn.Module,\n",
        "    weights_paths: [str or Path],\n",
        "    train_dataloader: torch.utils.data.DataLoader,\n",
        "    work_dir: str or Path,\n",
        "    nu_for_each_epoch: None\n",
        "):\n",
        "\n",
        "    LR = nu_for_each_epoch\n",
        "\n",
        "    score_matrix = np.zeros((len(train_dataloader)))\n",
        "\n",
        "    for train_id, (x_train, y_train) in tqdm(enumerate(train_dataloader), total=len(train_dataloader), desc='Train'):\n",
        "        grad_sum = 0\n",
        "\n",
        "        for w in weights_paths:\n",
        "            model = PatchTSTForPrediction(config).to(device)\n",
        "            model.load_state_dict(torch.load(w)) # checkpoint\n",
        "            model.eval()\n",
        "            inputs, targets = x_train.to(device), y_train.to(device)\n",
        "            outputs = model(\n",
        "                past_values=inputs,\n",
        "                future_values=targets,\n",
        "            )\n",
        "            preds = outputs.prediction_outputs\n",
        "            loss = nn.MSELoss()(targets, preds)\n",
        "            loss.backward() # back\n",
        "            train_grad = torch.cat([param.grad.reshape(-1) for param in model.parameters() if param.grad is not None])\n",
        "\n",
        "            grad_sum += LR * np.dot(train_grad, train_grad) # scalar mult, TracIn formula\n",
        "\n",
        "        score_matrix[train_id] = grad_sum\n",
        "\n",
        "    return score_matrix"
      ],
      "metadata": {
        "id": "gmEVWzFdJqQM"
      },
      "execution_count": 3,
      "outputs": []
    },
    {
      "cell_type": "code",
      "source": [
        "# Compute influences on test data\n",
        "\n",
        "def calculate_tracin_score(\n",
        "    model: torch.nn.Module,\n",
        "    weights_paths: [str or Path],\n",
        "    train_dataloader: torch.utils.data.DataLoader,\n",
        "    test_dataloader: torch.utils.data.DataLoader,\n",
        "    work_dir: str or Path,\n",
        "    nu_for_each_epoch: None\n",
        "):\n",
        "\n",
        "    LR = nu_for_each_epoch\n",
        "\n",
        "    score_matrix = np.zeros((len(train_dataloader), len(test_dataloader)))\n",
        "\n",
        "    for train_id, (x_train, y_train) in tqdm(enumerate(train_dataloader), total=len(train_dataloader), desc='Train'):\n",
        "\n",
        "        for test_id, (x_test, y_test) in enumerate(test_dataloader):\n",
        "            grad_sum = 0\n",
        "\n",
        "            for w in weights_paths:\n",
        "                model = PatchTSTForPrediction(config).to(device)\n",
        "                model.load_state_dict(torch.load(w)) # checkpoint\n",
        "                model.eval()\n",
        "                inputs, targets = x_train.to(device), y_train.to(device)\n",
        "                outputs = model(\n",
        "                    past_values=inputs,\n",
        "                    future_values=targets,\n",
        "                )\n",
        "                preds = outputs.prediction_outputs\n",
        "                loss = nn.MSELoss()(targets, preds)\n",
        "                loss.backward() # back\n",
        "                train_grad = torch.cat([param.grad.reshape(-1) for param in model.parameters() if param.grad is not None])\n",
        "\n",
        "                model = PatchTSTForPrediction(config).to(device)\n",
        "                model.load_state_dict(torch.load(w)) # checkpoint\n",
        "                model.eval()\n",
        "                inputs, targets = x_train.to(device), y_train.to(device)\n",
        "                outputs = model(\n",
        "                    past_values=inputs,\n",
        "                    future_values=targets,\n",
        "                )\n",
        "                preds = outputs.prediction_outputs\n",
        "                loss = nn.MSELoss()(targets, preds)\n",
        "                loss.backward() # back\n",
        "                test_grad = torch.cat([param.grad.reshape(-1) for param in model.parameters() if param.grad is not None])\n",
        "\n",
        "                grad_sum += LR * np.dot(train_grad, test_grad) # scalar mult, TracIn formula\n",
        "\n",
        "            score_matrix[train_id][test_id] = grad_sum\n",
        "\n",
        "    return score_matrix"
      ],
      "metadata": {
        "id": "DCCMQ30IGbju"
      },
      "execution_count": 4,
      "outputs": []
    },
    {
      "cell_type": "code",
      "source": [
        "# replace with the full dataset when running real experiments\n",
        "block_length = 50\n",
        "n_samples = 2000\n",
        "\n",
        "bike_sharing = fetch_openml(\"Bike_Sharing_Demand\", version=2, as_frame=True)\n",
        "ts = bike_sharing['target'].to_numpy().reshape(-1,1)[:n_samples]\n",
        "seq_len, n_dim = ts.shape\n",
        "\n",
        "# standardize to prevent gradient explode\n",
        "scaler = StandardScaler().fit(ts)\n",
        "ts = scaler.transform(ts)\n",
        "ts = ts.squeeze()\n",
        "\n",
        "# i use this setup for univariate time series; can adjust the shape here to accommodate\n",
        "# (n_samples, block_len, n_dim)\n",
        "ts_train, ts_test = ts[:int(len(ts)*.8)], ts[int(len(ts)*.8):]\n",
        "X_train, Y_train = create_dataset(ts_train, block_length=block_length, device=device)\n",
        "X_train, Y_train = X_train[:,:,None], Y_train[:,-1,None,None]\n",
        "X_test, Y_test = create_dataset(ts_test, block_length=block_length, device=device)\n",
        "X_test, Y_test = X_test[:,:,None], Y_test[:,-1,None,None]\n",
        "print(X_train.shape, Y_train.shape)\n",
        "print(X_test.shape, Y_test.shape)\n",
        "\n",
        "# still need to use match_train_time_block_index() to match time block to time point\n",
        "# this is just for demo purpose"
      ],
      "metadata": {
        "colab": {
          "base_uri": "https://localhost:8080/"
        },
        "id": "GmCvkLMcPyUL",
        "outputId": "c5bef998-1d2b-4f06-d6cb-d3505537453f"
      },
      "execution_count": 5,
      "outputs": [
        {
          "output_type": "stream",
          "name": "stderr",
          "text": [
            "/usr/local/lib/python3.10/dist-packages/sklearn/datasets/_openml.py:968: FutureWarning: The default value of `parser` will change from `'liac-arff'` to `'auto'` in 1.4. You can set `parser='auto'` to silence this warning. Therefore, an `ImportError` will be raised from 1.4 if the dataset is dense and pandas is not installed. Note that the pandas parser may return different data types. See the Notes Section in fetch_openml's API doc for details.\n",
            "  warn(\n"
          ]
        },
        {
          "output_type": "stream",
          "name": "stdout",
          "text": [
            "torch.Size([1550, 50, 1]) torch.Size([1550, 1, 1])\n",
            "torch.Size([350, 50, 1]) torch.Size([350, 1, 1])\n"
          ]
        },
        {
          "output_type": "stream",
          "name": "stderr",
          "text": [
            "<ipython-input-2-33d38f65c627>:9: UserWarning: Creating a tensor from a list of numpy.ndarrays is extremely slow. Please consider converting the list to a single numpy.ndarray with numpy.array() before converting to a tensor. (Triggered internally at ../torch/csrc/utils/tensor_new.cpp:275.)\n",
            "  return torch.tensor(X, dtype=torch.double).to(device), torch.tensor(Y, dtype=torch.double).to(device)\n"
          ]
        }
      ]
    },
    {
      "cell_type": "code",
      "source": [
        "# use a batch size of 1 bc otherwise TracIn will assign the same score\n",
        "# for each time block in the batch\n",
        "train_loader = torch.utils.data.DataLoader(\n",
        "    torch.utils.data.TensorDataset(X_train, Y_train), shuffle=True, batch_size=1\n",
        ")\n",
        "test_loader = torch.utils.data.DataLoader(\n",
        "    torch.utils.data.TensorDataset(X_train, Y_train), shuffle=False, batch_size=1\n",
        ")"
      ],
      "metadata": {
        "id": "_JSAXf_jNGNu"
      },
      "execution_count": 6,
      "outputs": []
    },
    {
      "cell_type": "code",
      "source": [
        "# https://huggingface.co/docs/transformers/en/model_doc/patchtst#transformers.PatchTSTConfig\n",
        "\n",
        "\n",
        "# use a very simple architecture\n",
        "# can adjust according to the need\n",
        "config = PatchTSTConfig(\n",
        "    num_input_channels=n_dim,         # 1 for univariate ts\n",
        "    context_length=block_length,      # context length of the input sequence\n",
        "    patch_length=5,                   # each patch is a token\n",
        "    prediction_length=1,              # prediction horizon (use 1 for our setting)\n",
        "    num_hidden_layers=1,\n",
        "    d_model=16,\n",
        "    num_attention_heads=1,\n",
        "    ffn_dim=32,\n",
        "    attention_dropout=0.,\n",
        "    dropout=0.,\n",
        "    random_mask_ratio=0.1,\n",
        "    num_targets=1,\n",
        ")"
      ],
      "metadata": {
        "id": "zHhDc9qVK_Az"
      },
      "execution_count": 7,
      "outputs": []
    },
    {
      "cell_type": "code",
      "source": [
        "learning_rate = 0.01 #0.001\n",
        "model = PatchTSTForPrediction(config).to(device)\n",
        "# TracIn only works with SGD so use SGD for now\n",
        "# Adam and other optimizers need special treatment\n",
        "optimizer = optim.SGD(model.parameters(), lr=learning_rate, momentum=0)\n",
        "# use this to collect checkpoints\n",
        "weights = []"
      ],
      "metadata": {
        "id": "Ng01gFxvH7qG"
      },
      "execution_count": 12,
      "outputs": []
    },
    {
      "cell_type": "code",
      "source": [
        "# for demo purpose; increase as needed\n",
        "n_epochs = 50\n",
        "for epoch in range(1, n_epochs):\n",
        "\n",
        "    running_loss = 0.0\n",
        "    for i, data in enumerate(train_loader):\n",
        "        # inputs: (bs, block_len, n_dim)\n",
        "        # preds:  (bs, forecast_len, n_dim)\n",
        "\n",
        "        inputs, targets = data\n",
        "        inputs, targets = inputs.to(device), targets.to(device)\n",
        "\n",
        "        optimizer.zero_grad()\n",
        "\n",
        "        outputs = model(\n",
        "            past_values=inputs,\n",
        "            future_values=targets,\n",
        "        )\n",
        "        preds = outputs.prediction_outputs\n",
        "        loss = nn.MSELoss()(targets, preds)\n",
        "        loss.backward()\n",
        "\n",
        "        optimizer.step()\n",
        "\n",
        "        running_loss += loss.item()\n",
        "    print(f'epoch: {epoch} loss: {running_loss / len(train_loader):.5f}')\n",
        "    running_loss = 0.0\n",
        "\n",
        "    # IMPORTANT: need to cherry-pick where to save checkpoints\n",
        "    # Can choose fewer checkpoints to speed up computation\n",
        "    # Meanwhile, the author recommended to use checkpoints with larger reduction in loss\n",
        "    # i.e., the earlier epochs when loss is still decreasing but not too early,\n",
        "    # to ensure the TracIn scores are meaningful\n",
        "    # see here: https://drive.google.com/file/d/1zL3hwW4wFru49_-zwpmliRDdCahjumXa/view\n",
        "    if epoch % 10 == 0:\n",
        "        torch.save(model.state_dict(), f'model_v1_epoch_{epoch}')\n",
        "        weights.append(f'model_v1_epoch_{epoch}')\n",
        "\n",
        "print('Finished Training!')"
      ],
      "metadata": {
        "colab": {
          "base_uri": "https://localhost:8080/"
        },
        "id": "9obamlPSN5kO",
        "outputId": "c66a885a-9c45-41c5-8808-ab21694afe92"
      },
      "execution_count": 13,
      "outputs": [
        {
          "output_type": "stream",
          "name": "stdout",
          "text": [
            "epoch: 1 loss: 0.77294\n",
            "epoch: 2 loss: 0.75948\n",
            "epoch: 3 loss: 0.69326\n",
            "epoch: 4 loss: 0.62070\n",
            "epoch: 5 loss: 0.60793\n",
            "epoch: 6 loss: 0.60929\n",
            "epoch: 7 loss: 0.60406\n",
            "epoch: 8 loss: 0.60123\n",
            "epoch: 9 loss: 0.59991\n",
            "epoch: 10 loss: 0.59918\n",
            "epoch: 11 loss: 0.59891\n",
            "epoch: 12 loss: 0.59794\n",
            "epoch: 13 loss: 0.59538\n",
            "epoch: 14 loss: 0.59213\n",
            "epoch: 15 loss: 0.58932\n",
            "epoch: 16 loss: 0.59567\n",
            "epoch: 17 loss: 0.59374\n",
            "epoch: 18 loss: 0.58701\n",
            "epoch: 19 loss: 0.59820\n",
            "epoch: 20 loss: 0.59217\n",
            "epoch: 21 loss: 0.59126\n",
            "epoch: 22 loss: 0.59586\n",
            "epoch: 23 loss: 0.59142\n",
            "epoch: 24 loss: 0.58887\n",
            "epoch: 25 loss: 0.59301\n",
            "epoch: 26 loss: 0.59016\n",
            "epoch: 27 loss: 0.58781\n",
            "epoch: 28 loss: 0.58802\n",
            "epoch: 29 loss: 0.58899\n",
            "epoch: 30 loss: 0.58962\n",
            "epoch: 31 loss: 0.59072\n",
            "epoch: 32 loss: 0.58484\n",
            "epoch: 33 loss: 0.58785\n",
            "epoch: 34 loss: 0.58220\n",
            "epoch: 35 loss: 0.58782\n",
            "epoch: 36 loss: 0.58729\n",
            "epoch: 37 loss: 0.58320\n",
            "epoch: 38 loss: 0.58421\n",
            "epoch: 39 loss: 0.58160\n",
            "epoch: 40 loss: 0.58332\n",
            "epoch: 41 loss: 0.58297\n",
            "epoch: 42 loss: 0.58297\n",
            "epoch: 43 loss: 0.58222\n",
            "epoch: 44 loss: 0.58385\n",
            "epoch: 45 loss: 0.58256\n",
            "epoch: 46 loss: 0.58336\n",
            "epoch: 47 loss: 0.58445\n",
            "epoch: 48 loss: 0.57712\n",
            "epoch: 49 loss: 0.58129\n",
            "Finished Training!\n"
          ]
        }
      ]
    },
    {
      "cell_type": "code",
      "source": [
        "# eval the trained patchTST\n",
        "model.eval()\n",
        "test_targets, test_preds = [], []\n",
        "for i, data in enumerate(test_loader):\n",
        "    inputs, targets = data\n",
        "    inputs, targets = inputs.to(device), targets.to(device)\n",
        "\n",
        "    outputs = model(\n",
        "        past_values=inputs,\n",
        "        future_values=targets,\n",
        "    )\n",
        "    preds = outputs.prediction_outputs\n",
        "    test_targets.append(targets)\n",
        "    test_preds.append(preds)\n",
        "test_targets = torch.concat(test_targets).squeeze().detach().numpy()\n",
        "test_preds = torch.concat(test_preds).squeeze().detach().numpy()"
      ],
      "metadata": {
        "id": "MggwUu05dod5"
      },
      "execution_count": 14,
      "outputs": []
    },
    {
      "cell_type": "code",
      "source": [
        "# the simple 1-layer patchTST generalizes to test data pretty well :)\n",
        "plt.figure(figsize=(10,1))\n",
        "plt.plot(test_targets[:100], label='gt')\n",
        "plt.plot(test_preds[:100], label='pred')\n",
        "plt.legend();"
      ],
      "metadata": {
        "colab": {
          "base_uri": "https://localhost:8080/",
          "height": 137
        },
        "id": "7m3bGS1KdduI",
        "outputId": "7dd33419-fc01-41e2-ee30-bb91618935eb"
      },
      "execution_count": 18,
      "outputs": [
        {
          "output_type": "display_data",
          "data": {
            "text/plain": [
              "<Figure size 1000x100 with 1 Axes>"
            ],
            "image/png": "[encoded data removed]"
          },
          "metadata": {}
        }
      ]
    },
    {
      "cell_type": "code",
      "source": [
        "# IMPORTANT: For anomaly detection,\n",
        "# I think the model training time should not be included in the computation time\n",
        "# only the IF computation time will be included\n",
        "# bc in reality we would take a pre-trained model with pre-saved checkpoints\n",
        "# and then directly compute the TracIn\n",
        "\n",
        "IF_block = calculate_self_tracin(\n",
        "    model=PatchTSTForPrediction(config),\n",
        "    weights_paths=weights,\n",
        "    train_dataloader=train_loader,\n",
        "    work_dir=None, nu_for_each_epoch=learning_rate\n",
        ")\n",
        "# nice - it only takes 1 min to compute IF for this simple patchTST :)"
      ],
      "metadata": {
        "colab": {
          "base_uri": "https://localhost:8080/"
        },
        "id": "CKhjNScOVWVU",
        "outputId": "34438f68-bfa8-4e65-e696-f72c649fcb09"
      },
      "execution_count": 19,
      "outputs": [
        {
          "output_type": "stream",
          "name": "stderr",
          "text": [
            "Train: 100%|██████████| 1550/1550 [01:31<00:00, 16.92it/s]\n"
          ]
        }
      ]
    },
    {
      "cell_type": "code",
      "source": [
        "# computed self-influence for each time block\n",
        "# still need to compute self-influence for each time point using the matched_index\n",
        "# and then the usual stuffs with anomaly scores ...\n",
        "plt.figure(figsize=(15,1))\n",
        "plt.plot(IF_block[:100])\n",
        "plt.ylabel('self-influence');"
      ],
      "metadata": {
        "colab": {
          "base_uri": "https://localhost:8080/",
          "height": 134
        },
        "id": "pMY6Z3OZci06",
        "outputId": "b3e39685-1aac-4a6a-96c1-46f4a7067762"
      },
      "execution_count": 21,
      "outputs": [
        {
          "output_type": "display_data",
          "data": {
            "text/plain": [
              "<Figure size 1500x100 with 1 Axes>"
            ],
            "image/png": "[encoded data removed]"
          },
          "metadata": {}
        }
      ]
    },
    {
      "cell_type": "code",
      "source": [],
      "metadata": {
        "id": "L-MFLWOL4d1L"
      },
      "execution_count": null,
      "outputs": []
    }
  ]
}