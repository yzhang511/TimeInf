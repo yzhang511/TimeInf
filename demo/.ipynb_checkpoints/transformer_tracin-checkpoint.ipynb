{
 "cells": [
  {
   "cell_type": "code",
   "execution_count": 1,
   "metadata": {
    "id": "q3yTYnwC4ZtR"
   },
   "outputs": [
    {
     "name": "stderr",
     "output_type": "stream",
     "text": [
      "/u/yzhang39/miniconda3/envs/jupy/lib/python3.12/site-packages/tqdm/auto.py:21: TqdmWarning: IProgress not found. Please update jupyter and ipywidgets. See https://ipywidgets.readthedocs.io/en/stable/user_install.html\n",
      "  from .autonotebook import tqdm as notebook_tqdm\n"
     ]
    }
   ],
   "source": [
    "import sys\n",
    "import numpy as np\n",
    "from tqdm import tqdm\n",
    "from pathlib import Path\n",
    "import matplotlib.pyplot as plt\n",
    "from sklearn.datasets import fetch_openml\n",
    "from sklearn.preprocessing import StandardScaler\n",
    "\n",
    "import torch\n",
    "import torch.nn as nn\n",
    "import torch.nn.functional as F\n",
    "import torch.optim as optim\n",
    "\n",
    "from transformers import PatchTSTConfig, PatchTSTForPrediction\n",
    "\n",
    "path_root = '../anomaly_detection/'\n",
    "sys.path.append(str(path_root))\n",
    "\n",
    "from detectors import create_dataset\n",
    "\n",
    "torch.set_default_dtype(torch.double)\n",
    "device = torch.device(\"cuda:0\" if torch.cuda.is_available() else \"cpu\")"
   ]
  },
  {
   "cell_type": "code",
   "execution_count": 16,
   "metadata": {},
   "outputs": [],
   "source": [
    "def calculate_self_tracin(\n",
    "    model: torch.nn.Module,\n",
    "    weights_paths: [str or Path],\n",
    "    train_dataloader: torch.utils.data.DataLoader,\n",
    "    work_dir: str or Path,\n",
    "    nu_for_each_epoch: None\n",
    "):\n",
    "    '''Compute self-influence using TracIn.'''\n",
    "    \n",
    "    LR = nu_for_each_epoch\n",
    "\n",
    "    score_matrix = np.zeros((len(train_dataloader)))\n",
    "\n",
    "    for train_id, (x_train, y_train) in tqdm(enumerate(train_dataloader), total=len(train_dataloader), desc='TracIn'):\n",
    "        grad_sum = 0\n",
    "\n",
    "        for w in weights_paths:\n",
    "            model = PatchTSTForPrediction(config).to(device)\n",
    "            model.load_state_dict(torch.load(w)) # checkpoint\n",
    "            model.eval()\n",
    "            inputs, targets = x_train.to(device), y_train.to(device)\n",
    "            outputs = model(\n",
    "                past_values=inputs,\n",
    "                future_values=targets,\n",
    "            )\n",
    "            preds = outputs.prediction_outputs\n",
    "            loss = nn.MSELoss()(targets, preds)\n",
    "            loss.backward() # back\n",
    "            train_grad = torch.cat([param.grad.reshape(-1) for param in model.parameters() if param.grad is not None])\n",
    "\n",
    "            grad_sum += LR * np.dot(train_grad, train_grad) \n",
    "\n",
    "        score_matrix[train_id] = grad_sum\n",
    "\n",
    "    return score_matrix\n",
    "\n",
    "\n",
    "def calculate_tracin_score(\n",
    "    model: torch.nn.Module,\n",
    "    weights_paths: [str or Path],\n",
    "    train_dataloader: torch.utils.data.DataLoader,\n",
    "    test_dataloader: torch.utils.data.DataLoader,\n",
    "    work_dir: str or Path,\n",
    "    nu_for_each_epoch: None\n",
    "):\n",
    "    '''Compute data influence on test predictions using TracIn.'''\n",
    "    \n",
    "    LR = nu_for_each_epoch\n",
    "\n",
    "    score_matrix = np.zeros((len(train_dataloader), len(test_dataloader)))\n",
    "\n",
    "    for train_id, (x_train, y_train) in tqdm(enumerate(train_dataloader), total=len(train_dataloader), desc='TracIn'):\n",
    "\n",
    "        for test_id, (x_test, y_test) in enumerate(test_dataloader):\n",
    "            grad_sum = 0\n",
    "\n",
    "            for w in weights_paths:\n",
    "                model = PatchTSTForPrediction(config).to(device)\n",
    "                model.load_state_dict(torch.load(w)) # checkpoint\n",
    "                model.eval()\n",
    "                inputs, targets = x_train.to(device), y_train.to(device)\n",
    "                outputs = model(\n",
    "                    past_values=inputs,\n",
    "                    future_values=targets,\n",
    "                )\n",
    "                preds = outputs.prediction_outputs\n",
    "                loss = nn.MSELoss()(targets, preds)\n",
    "                loss.backward() \n",
    "                train_grad = torch.cat([param.grad.reshape(-1) for param in model.parameters() if param.grad is not None])\n",
    "\n",
    "                model = PatchTSTForPrediction(config).to(device)\n",
    "                model.load_state_dict(torch.load(w)) # checkpoint\n",
    "                model.eval()\n",
    "                inputs, targets = x_train.to(device), y_train.to(device)\n",
    "                outputs = model(\n",
    "                    past_values=inputs,\n",
    "                    future_values=targets,\n",
    "                )\n",
    "                preds = outputs.prediction_outputs\n",
    "                loss = nn.MSELoss()(targets, preds)\n",
    "                loss.backward() # back\n",
    "                test_grad = torch.cat([param.grad.reshape(-1) for param in model.parameters() if param.grad is not None])\n",
    "\n",
    "                grad_sum += LR * np.dot(train_grad, test_grad) \n",
    "\n",
    "            score_matrix[train_id][test_id] = grad_sum\n",
    "\n",
    "    return score_matrix"
   ]
  },
  {
   "cell_type": "code",
   "execution_count": 2,
   "metadata": {
    "colab": {
     "base_uri": "https://localhost:8080/"
    },
    "id": "GmCvkLMcPyUL",
    "outputId": "c5bef998-1d2b-4f06-d6cb-d3505537453f"
   },
   "outputs": [
    {
     "name": "stdout",
     "output_type": "stream",
     "text": [
      "torch.Size([1550, 50, 1]) torch.Size([1550, 1, 1])\n",
      "torch.Size([350, 50, 1]) torch.Size([350, 1, 1])\n"
     ]
    },
    {
     "name": "stderr",
     "output_type": "stream",
     "text": [
      "/u/yzhang39/time-series-influence/demo/../anomaly_detection/detectors.py:326: UserWarning: Creating a tensor from a list of numpy.ndarrays is extremely slow. Please consider converting the list to a single numpy.ndarray with numpy.array() before converting to a tensor. (Triggered internally at ../torch/csrc/utils/tensor_new.cpp:274.)\n",
      "  return torch.tensor(X).to(device), torch.tensor(Y).to(device)\n"
     ]
    }
   ],
   "source": [
    "block_length = 50\n",
    "n_samples = 2000\n",
    "\n",
    "bike_sharing = fetch_openml(\"Bike_Sharing_Demand\", version=2, as_frame=True)\n",
    "ts = bike_sharing['target'].to_numpy().reshape(-1,1)[:n_samples]\n",
    "seq_len, n_dim = ts.shape\n",
    "\n",
    "scaler = StandardScaler().fit(ts)\n",
    "ts = scaler.transform(ts)\n",
    "ts = ts.squeeze()\n",
    "\n",
    "ts_train, ts_test = ts[:int(len(ts)*.8)], ts[int(len(ts)*.8):]\n",
    "X_train, Y_train = create_dataset(ts_train, block_length=block_length, device=device)\n",
    "X_train, Y_train = X_train[:,:,None], Y_train[:,-1,None,None]\n",
    "X_test, Y_test = create_dataset(ts_test, block_length=block_length, device=device)\n",
    "X_test, Y_test = X_test[:,:,None], Y_test[:,-1,None,None]\n",
    "print(X_train.shape, Y_train.shape)\n",
    "print(X_test.shape, Y_test.shape)"
   ]
  },
  {
   "cell_type": "code",
   "execution_count": 3,
   "metadata": {
    "id": "_JSAXf_jNGNu"
   },
   "outputs": [],
   "source": [
    "# batch size = 1 otherwise TracIn will assign the same score to all time blocks in the batch\n",
    "train_loader = torch.utils.data.DataLoader(\n",
    "    torch.utils.data.TensorDataset(X_train, Y_train), shuffle=True, batch_size=1\n",
    ")\n",
    "test_loader = torch.utils.data.DataLoader(\n",
    "    torch.utils.data.TensorDataset(X_train, Y_train), shuffle=False, batch_size=1\n",
    ")"
   ]
  },
  {
   "cell_type": "code",
   "execution_count": 4,
   "metadata": {
    "id": "zHhDc9qVK_Az"
   },
   "outputs": [],
   "source": [
    "# https://huggingface.co/docs/transformers/en/model_doc/patchtst#transformers.PatchTSTConfig\n",
    "\n",
    "config = PatchTSTConfig(\n",
    "    num_input_channels=n_dim,         \n",
    "    context_length=block_length,      # context length of the input sequence\n",
    "    patch_length=5,                   # each patch is a token\n",
    "    prediction_length=1,              # prediction horizon (one-step ahead in our setting)\n",
    "    num_hidden_layers=1,\n",
    "    d_model=16,\n",
    "    num_attention_heads=1,\n",
    "    ffn_dim=32,\n",
    "    attention_dropout=0.,\n",
    "    dropout=0.,\n",
    "    random_mask_ratio=0.1,\n",
    "    num_targets=1,\n",
    ")"
   ]
  },
  {
   "cell_type": "code",
   "execution_count": 6,
   "metadata": {
    "id": "Ng01gFxvH7qG"
   },
   "outputs": [],
   "source": [
    "learning_rate = 0.01 \n",
    "model = PatchTSTForPrediction(config).to(device)\n",
    "# TracIn only works with SGD \n",
    "optimizer = optim.SGD(model.parameters(), lr=learning_rate, momentum=0)\n",
    "n_epochs = 50 # for demo purpose and increase as needed\n",
    "weights = [] # use this to collect checkpoints"
   ]
  },
  {
   "cell_type": "code",
   "execution_count": 7,
   "metadata": {
    "colab": {
     "base_uri": "https://localhost:8080/"
    },
    "id": "9obamlPSN5kO",
    "outputId": "c66a885a-9c45-41c5-8808-ab21694afe92"
   },
   "outputs": [
    {
     "name": "stdout",
     "output_type": "stream",
     "text": [
      "epoch: 1 loss: 0.77306\n",
      "epoch: 2 loss: 0.76013\n",
      "epoch: 3 loss: 0.69694\n",
      "epoch: 4 loss: 0.62660\n",
      "epoch: 5 loss: 0.60979\n",
      "epoch: 6 loss: 0.61019\n",
      "epoch: 7 loss: 0.60539\n",
      "epoch: 8 loss: 0.60663\n",
      "epoch: 9 loss: 0.60142\n",
      "epoch: 10 loss: 0.59776\n",
      "epoch: 11 loss: 0.60037\n",
      "epoch: 12 loss: 0.59608\n",
      "epoch: 13 loss: 0.59582\n",
      "epoch: 14 loss: 0.59290\n",
      "epoch: 15 loss: 0.59579\n",
      "epoch: 16 loss: 0.58969\n",
      "epoch: 17 loss: 0.59311\n",
      "epoch: 18 loss: 0.59415\n",
      "epoch: 19 loss: 0.59005\n",
      "epoch: 20 loss: 0.59547\n",
      "epoch: 21 loss: 0.58683\n",
      "epoch: 22 loss: 0.59398\n",
      "epoch: 23 loss: 0.58906\n",
      "epoch: 24 loss: 0.58544\n",
      "epoch: 25 loss: 0.59166\n",
      "epoch: 26 loss: 0.58966\n",
      "epoch: 27 loss: 0.58673\n",
      "epoch: 28 loss: 0.59061\n",
      "epoch: 29 loss: 0.58485\n",
      "epoch: 30 loss: 0.58939\n",
      "epoch: 31 loss: 0.58798\n",
      "epoch: 32 loss: 0.58679\n",
      "epoch: 33 loss: 0.58842\n",
      "epoch: 34 loss: 0.58528\n",
      "epoch: 35 loss: 0.58286\n",
      "epoch: 36 loss: 0.58547\n",
      "epoch: 37 loss: 0.58054\n",
      "epoch: 38 loss: 0.58075\n",
      "epoch: 39 loss: 0.58260\n",
      "epoch: 40 loss: 0.58489\n",
      "epoch: 41 loss: 0.58234\n",
      "epoch: 42 loss: 0.58116\n",
      "epoch: 43 loss: 0.59020\n",
      "epoch: 44 loss: 0.58885\n",
      "epoch: 45 loss: 0.58263\n",
      "epoch: 46 loss: 0.58224\n",
      "epoch: 47 loss: 0.58493\n",
      "epoch: 48 loss: 0.58279\n",
      "epoch: 49 loss: 0.58559\n",
      "Finished Training!\n"
     ]
    }
   ],
   "source": [
    "for epoch in range(1, n_epochs):\n",
    "    running_loss = 0.0\n",
    "    for i, data in enumerate(train_loader):\n",
    "        # inputs: (bs, block_len, n_dim)\n",
    "        # preds:  (bs, forecast_len, n_dim)\n",
    "        inputs, targets = data\n",
    "        inputs, targets = inputs.to(device), targets.to(device)\n",
    "\n",
    "        optimizer.zero_grad()\n",
    "\n",
    "        outputs = model(\n",
    "            past_values=inputs,\n",
    "            future_values=targets,\n",
    "        )\n",
    "        preds = outputs.prediction_outputs\n",
    "        loss = nn.MSELoss()(targets, preds)\n",
    "        loss.backward()\n",
    "\n",
    "        optimizer.step()\n",
    "\n",
    "        running_loss += loss.item()\n",
    "    print(f'epoch: {epoch} loss: {running_loss / len(train_loader):.5f}')\n",
    "    running_loss = 0.0\n",
    "\n",
    "    # IMPORTANT: need to hand-pick when to save checkpoints.\n",
    "    # we can choose fewer checkpoints to speed up computation.\n",
    "    # the authors recommended to use checkpoints with larger loss reduction,\n",
    "    #     i.e., earlier epochs when loss is still decreasing but \n",
    "    #     not too early to ensure TracIn scores are meaningful.\n",
    "    #     see here: https://drive.google.com/file/d/1zL3hwW4wFru49_-zwpmliRDdCahjumXa/view\n",
    "    if epoch % 10 == 0:\n",
    "        torch.save(model.state_dict(), f'model_v1_epoch_{epoch}')\n",
    "        weights.append(f'model_v1_epoch_{epoch}')\n",
    "\n",
    "print('Finished Training!')"
   ]
  },
  {
   "cell_type": "code",
   "execution_count": 8,
   "metadata": {
    "id": "MggwUu05dod5"
   },
   "outputs": [],
   "source": [
    "# validate patchTST\n",
    "model.eval()\n",
    "test_targets, test_preds = [], []\n",
    "for i, data in enumerate(test_loader):\n",
    "    inputs, targets = data\n",
    "    inputs, targets = inputs.to(device), targets.to(device)\n",
    "\n",
    "    outputs = model(\n",
    "        past_values=inputs,\n",
    "        future_values=targets,\n",
    "    )\n",
    "    preds = outputs.prediction_outputs\n",
    "    test_targets.append(targets)\n",
    "    test_preds.append(preds)\n",
    "test_targets = torch.concat(test_targets).squeeze().detach().numpy()\n",
    "test_preds = torch.concat(test_preds).squeeze().detach().numpy()"
   ]
  },
  {
   "cell_type": "code",
   "execution_count": 14,
   "metadata": {
    "colab": {
     "base_uri": "https://localhost:8080/",
     "height": 137
    },
    "id": "7m3bGS1KdduI",
    "outputId": "7dd33419-fc01-41e2-ee30-bb91618935eb"
   },
   "outputs": [
    {
     "data": {
      "image/png": "[encoded data removed]",
      "text/plain": [
       "<Figure size 1200x100 with 1 Axes>"
      ]
     },
     "metadata": {},
     "output_type": "display_data"
    }
   ],
   "source": [
    "plt.figure(figsize=(12, 1))\n",
    "plt.plot(test_targets[:100], c='k', linewidth=3, alpha=.2, label='gt')\n",
    "plt.plot(test_preds[:100], c='k', linestyle='--', label='pred')\n",
    "plt.legend(ncol=2, frameon=False)\n",
    "plt.show()"
   ]
  },
  {
   "cell_type": "code",
   "execution_count": 17,
   "metadata": {
    "colab": {
     "base_uri": "https://localhost:8080/"
    },
    "id": "CKhjNScOVWVU",
    "outputId": "34438f68-bfa8-4e65-e696-f72c649fcb09"
   },
   "outputs": [
    {
     "name": "stderr",
     "output_type": "stream",
     "text": [
      "TracIn: 100%|██████████| 1550/1550 [00:39<00:00, 39.69it/s]\n"
     ]
    }
   ],
   "source": [
    "# compute self-influence for each time block\n",
    "# we still need to compute self-influence for each time point\n",
    "#    and then obtain the anomaly scores.\n",
    "\n",
    "IF_block = calculate_self_tracin(\n",
    "    model=PatchTSTForPrediction(config),\n",
    "    weights_paths=weights,\n",
    "    train_dataloader=train_loader,\n",
    "    work_dir=None, nu_for_each_epoch=learning_rate\n",
    ")"
   ]
  },
  {
   "cell_type": "code",
   "execution_count": 19,
   "metadata": {
    "colab": {
     "base_uri": "https://localhost:8080/",
     "height": 134
    },
    "id": "pMY6Z3OZci06",
    "outputId": "b3e39685-1aac-4a6a-96c1-46f4a7067762"
   },
   "outputs": [
    {
     "data": {
      "image/png": "[encoded data removed]",
      "text/plain": [
       "<Figure size 1500x100 with 1 Axes>"
      ]
     },
     "metadata": {},
     "output_type": "display_data"
    }
   ],
   "source": [
    "plt.figure(figsize=(15,1))\n",
    "plt.plot(IF_block[100:200], c='k')\n",
    "plt.ylabel('self-influence')\n",
    "plt.show()"
   ]
  },
  {
   "cell_type": "code",
   "execution_count": null,
   "metadata": {
    "id": "L-MFLWOL4d1L"
   },
   "outputs": [],
   "source": []
  }
 ],
 "metadata": {
  "colab": {
   "provenance": []
  },
  "kernelspec": {
   "display_name": "Python 3 (ipykernel)",
   "language": "python",
   "name": "python3"
  },
  "language_info": {
   "codemirror_mode": {
    "name": "ipython",
    "version": 3
   },
   "file_extension": ".py",
   "mimetype": "text/x-python",
   "name": "python",
   "nbconvert_exporter": "python",
   "pygments_lexer": "ipython3",
   "version": "3.12.4"
  }
 },
 "nbformat": 4,
 "nbformat_minor": 4
}
