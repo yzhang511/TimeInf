{
 "cells": [
  {
   "cell_type": "markdown",
   "id": "bb00696d-7624-4e52-b23a-619b5599b24b",
   "metadata": {},
   "source": [
    "[torch-influence](https://github.com/alstonlo/torch-influence/tree/main)"
   ]
  },
  {
   "cell_type": "code",
   "execution_count": null,
   "id": "cfb317ee-0194-4002-b787-1fc5e38c620b",
   "metadata": {},
   "outputs": [],
   "source": []
  }
 ],
 "metadata": {
  "kernelspec": {
   "display_name": "Python 3 (ipykernel)",
   "language": "python",
   "name": "python3"
  },
  "language_info": {
   "codemirror_mode": {
    "name": "ipython",
    "version": 3
   },
   "file_extension": ".py",
   "mimetype": "text/x-python",
   "name": "python",
   "nbconvert_exporter": "python",
   "pygments_lexer": "ipython3",
   "version": "3.8.17"
  }
 },
 "nbformat": 4,
 "nbformat_minor": 5
}
