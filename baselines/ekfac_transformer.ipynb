{
 "cells": [
  {
   "cell_type": "code",
   "execution_count": 1,
   "metadata": {
    "id": "q3yTYnwC4ZtR"
   },
   "outputs": [
    {
     "name": "stderr",
     "output_type": "stream",
     "text": [
      "/home/yizi/anaconda3/envs/timeinf/lib/python3.12/site-packages/tqdm/auto.py:21: TqdmWarning: IProgress not found. Please update jupyter and ipywidgets. See https://ipywidgets.readthedocs.io/en/stable/user_install.html\n",
      "  from .autonotebook import tqdm as notebook_tqdm\n"
     ]
    }
   ],
   "source": [
    "import sys\n",
    "import numpy as np\n",
    "from tqdm import tqdm\n",
    "from pathlib import Path\n",
    "import matplotlib.pyplot as plt\n",
    "from sklearn.datasets import fetch_openml\n",
    "from sklearn.preprocessing import StandardScaler\n",
    "\n",
    "import torch\n",
    "import torch.nn as nn\n",
    "import torch.nn.functional as F\n",
    "import torch.optim as optim\n",
    "\n",
    "from transformers import PatchTSTConfig, PatchTSTForPrediction\n",
    "\n",
    "path_root = '../anomaly_detection/'\n",
    "sys.path.append(str(path_root))\n",
    "\n",
    "from detectors import create_dataset\n",
    "\n",
    "torch.set_default_dtype(torch.double)\n",
    "device = torch.device(\"cuda:0\" if torch.cuda.is_available() else \"cpu\")"
   ]
  },
  {
   "cell_type": "code",
   "execution_count": 2,
   "metadata": {
    "colab": {
     "base_uri": "https://localhost:8080/"
    },
    "id": "GmCvkLMcPyUL",
    "outputId": "c5bef998-1d2b-4f06-d6cb-d3505537453f"
   },
   "outputs": [
    {
     "name": "stderr",
     "output_type": "stream",
     "text": [
      "/home/yizi/TimeInf/baselines/../anomaly_detection/detectors.py:326: UserWarning: Creating a tensor from a list of numpy.ndarrays is extremely slow. Please consider converting the list to a single numpy.ndarray with numpy.array() before converting to a tensor. (Triggered internally at ../torch/csrc/utils/tensor_new.cpp:278.)\n",
      "  return torch.tensor(X).to(device), torch.tensor(Y).to(device)\n"
     ]
    },
    {
     "name": "stdout",
     "output_type": "stream",
     "text": [
      "torch.Size([1550, 50, 1]) torch.Size([1550, 1, 1])\n",
      "torch.Size([350, 50, 1]) torch.Size([350, 1, 1])\n"
     ]
    }
   ],
   "source": [
    "block_length = 50\n",
    "n_samples = 2000\n",
    "\n",
    "bike_sharing = fetch_openml(\"Bike_Sharing_Demand\", version=2, as_frame=True)\n",
    "ts = bike_sharing['target'].to_numpy().reshape(-1,1)[:n_samples]\n",
    "seq_len, n_dim = ts.shape\n",
    "\n",
    "scaler = StandardScaler().fit(ts)\n",
    "ts = scaler.transform(ts)\n",
    "ts = ts.squeeze()\n",
    "\n",
    "ts_train, ts_test = ts[:int(len(ts)*.8)], ts[int(len(ts)*.8):]\n",
    "X_train, Y_train = create_dataset(ts_train, block_length=block_length, device=device)\n",
    "X_train, Y_train = X_train[:,:,None], Y_train[:,-1,None,None]\n",
    "X_test, Y_test = create_dataset(ts_test, block_length=block_length, device=device)\n",
    "X_test, Y_test = X_test[:,:,None], Y_test[:,-1,None,None]\n",
    "print(X_train.shape, Y_train.shape)\n",
    "print(X_test.shape, Y_test.shape)"
   ]
  },
  {
   "cell_type": "code",
   "execution_count": 3,
   "metadata": {
    "id": "_JSAXf_jNGNu"
   },
   "outputs": [],
   "source": [
    "# batch size = 1 otherwise TracIn will assign the same score to all time blocks in the batch\n",
    "train_dataset = torch.utils.data.TensorDataset(X_train, Y_train)\n",
    "test_dataset = torch.utils.data.TensorDataset(X_train, Y_train)\n",
    "\n",
    "train_loader = torch.utils.data.DataLoader(train_dataset, shuffle=True, batch_size=1)\n",
    "test_loader = torch.utils.data.DataLoader(test_dataset, shuffle=False, batch_size=1)"
   ]
  },
  {
   "cell_type": "code",
   "execution_count": 4,
   "metadata": {
    "id": "zHhDc9qVK_Az"
   },
   "outputs": [],
   "source": [
    "# https://huggingface.co/docs/transformers/en/model_doc/patchtst#transformers.PatchTSTConfig\n",
    "\n",
    "config = PatchTSTConfig(\n",
    "    num_input_channels=n_dim,         \n",
    "    context_length=block_length,      # context length of the input sequence\n",
    "    patch_length=5,                   # each patch is a token\n",
    "    prediction_length=1,              # prediction horizon (one-step ahead in our setting)\n",
    "    num_hidden_layers=1,\n",
    "    d_model=16,\n",
    "    num_attention_heads=1,\n",
    "    ffn_dim=32,\n",
    "    attention_dropout=0.,\n",
    "    dropout=0.,\n",
    "    random_mask_ratio=0.1,\n",
    "    num_targets=1,\n",
    ")"
   ]
  },
  {
   "cell_type": "code",
   "execution_count": 11,
   "metadata": {
    "id": "Ng01gFxvH7qG"
   },
   "outputs": [],
   "source": [
    "learning_rate = 0.01 \n",
    "model = PatchTSTForPrediction(config).to(device)\n",
    "# TracIn only works with SGD \n",
    "optimizer = optim.SGD(model.parameters(), lr=learning_rate, momentum=0)\n",
    "n_epochs = 50 # for demo purpose and increase as needed\n",
    "weights = [] # use this to collect checkpoints"
   ]
  },
  {
   "cell_type": "code",
   "execution_count": null,
   "metadata": {
    "colab": {
     "base_uri": "https://localhost:8080/"
    },
    "id": "9obamlPSN5kO",
    "outputId": "c66a885a-9c45-41c5-8808-ab21694afe92",
    "scrolled": true
   },
   "outputs": [],
   "source": [
    "for epoch in range(1, n_epochs):\n",
    "    running_loss = 0.0\n",
    "    for i, data in enumerate(train_loader):\n",
    "        # inputs: (bs, block_len, n_dim)\n",
    "        # preds:  (bs, forecast_len, n_dim)\n",
    "        inputs, targets = data\n",
    "        inputs, targets = inputs.to(device), targets.to(device)\n",
    "\n",
    "        optimizer.zero_grad()\n",
    "\n",
    "        outputs = model(\n",
    "            past_values=inputs,\n",
    "            future_values=targets,\n",
    "        )\n",
    "        preds = outputs.prediction_outputs\n",
    "        loss = nn.MSELoss()(targets, preds)\n",
    "        loss.backward()\n",
    "\n",
    "        optimizer.step()\n",
    "\n",
    "        running_loss += loss.item()\n",
    "        \n",
    "    print(f'epoch: {epoch} loss: {running_loss / len(train_loader):.5f}')\n",
    "    \n",
    "    running_loss = 0.0\n",
    "\n",
    "print('Finished Training!')\n",
    "torch.save(model.state_dict(), f'model_patchtst')"
   ]
  },
  {
   "cell_type": "code",
   "execution_count": 14,
   "metadata": {
    "id": "MggwUu05dod5"
   },
   "outputs": [],
   "source": [
    "# validate patchTST\n",
    "model.eval()\n",
    "test_targets, test_preds = [], []\n",
    "for i, data in enumerate(test_loader):\n",
    "    inputs, targets = data\n",
    "    inputs, targets = inputs.to(device), targets.to(device)\n",
    "\n",
    "    outputs = model(\n",
    "        past_values=inputs,\n",
    "        future_values=targets,\n",
    "    )\n",
    "    preds = outputs.prediction_outputs\n",
    "    test_targets.append(targets)\n",
    "    test_preds.append(preds)\n",
    "test_targets = torch.concat(test_targets).squeeze().cpu().detach().numpy()\n",
    "test_preds = torch.concat(test_preds).squeeze().cpu().detach().numpy()"
   ]
  },
  {
   "cell_type": "code",
   "execution_count": 15,
   "metadata": {
    "colab": {
     "base_uri": "https://localhost:8080/",
     "height": 137
    },
    "id": "7m3bGS1KdduI",
    "outputId": "7dd33419-fc01-41e2-ee30-bb91618935eb"
   },
   "outputs": [
    {
     "data": {
      "image/png": "[encoded data removed]",
      "text/plain": [
       "<Figure size 1200x100 with 1 Axes>"
      ]
     },
     "metadata": {},
     "output_type": "display_data"
    }
   ],
   "source": [
    "plt.figure(figsize=(12, 1))\n",
    "plt.plot(test_targets[:100], c='k', linewidth=3, alpha=.2, label='gt')\n",
    "plt.plot(test_preds[:100], c='k', linestyle='--', label='pred')\n",
    "plt.legend(ncol=2, frameon=False)\n",
    "plt.show()"
   ]
  },
  {
   "cell_type": "code",
   "execution_count": 32,
   "metadata": {},
   "outputs": [],
   "source": [
    "from typing import Any, Dict, List, Optional, Union\n",
    "import torch\n",
    "from torch import nn\n",
    "from kronfluence.task import Task\n",
    "import math\n",
    "\n",
    "class RegressionTask(Task):\n",
    "    def compute_train_loss(\n",
    "        self,\n",
    "        batch: Any,\n",
    "        model: nn.Module,\n",
    "        sample: bool = False,\n",
    "    ) -> torch.Tensor:\n",
    "        inputs, targets = batch\n",
    "        inputs, targets = inputs.to(device), targets.to(device)\n",
    "        outputs = model(\n",
    "            past_values=inputs,\n",
    "            future_values=targets,\n",
    "        ).prediction_outputs\n",
    "        if not sample:\n",
    "            return F.mse_loss(outputs, targets, reduction=\"sum\")\n",
    "        # Sample the outputs from the model's prediction for true Fisher.\n",
    "        with torch.no_grad():\n",
    "            sampled_targets = torch.normal(outputs.detach(), std=math.sqrt(0.5))\n",
    "        return F.mse_loss(outputs, sampled_targets, reduction=\"sum\")\n",
    "\n",
    "    def compute_measurement(\n",
    "        self,\n",
    "        batch: Any,\n",
    "        model: nn.Module,\n",
    "    ) -> torch.Tensor:\n",
    "        return self.compute_train_loss(batch, model, sample=False)\n",
    "\n",
    "    def get_influence_tracked_modules(self) -> Optional[List[str]]:\n",
    "        return None  # Compute influence scores on all available modules.\n",
    "\n",
    "    def get_attention_mask(self, batch: Any) -> Optional[Union[Dict[str, torch.Tensor], torch.Tensor]]:\n",
    "        # TODO: [Optional] Complete this method.\n",
    "        return None  # Attention mask not used."
   ]
  },
  {
   "cell_type": "code",
   "execution_count": 45,
   "metadata": {},
   "outputs": [],
   "source": [
    "from kronfluence.analyzer import Analyzer, prepare_model\n",
    "task = RegressionTask()\n",
    "model = prepare_model(model, task)"
   ]
  },
  {
   "cell_type": "code",
   "execution_count": 50,
   "metadata": {},
   "outputs": [],
   "source": [
    "analyzer = Analyzer(\n",
    "    analysis_name=\"test\",\n",
    "    model=model,\n",
    "    task=task,\n",
    "    cpu=False,\n",
    "    disable_tqdm=False,\n",
    ")"
   ]
  },
  {
   "cell_type": "code",
   "execution_count": 51,
   "metadata": {},
   "outputs": [
    {
     "name": "stderr",
     "output_type": "stream",
     "text": [
      "/home/yizi/anaconda3/envs/timeinf/lib/python3.12/site-packages/kronfluence/factor/covariance.py:200: FutureWarning: `torch.cuda.amp.GradScaler(args...)` is deprecated. Please use `torch.amp.GradScaler('cuda', args...)` instead.\n",
      "  scaler = GradScaler(init_scale=factor_args.amp_scale, enabled=enable_grad_scaler)\n",
      "Fitting covariance matrices [1/1] 100%|█████████████████████ [time left: 00:00, time spent: 00:00]\n",
      "Performing Eigendecomposition [24/24] 100%|█████████████████ [time left: 00:00, time spent: 00:00]\n",
      "/home/yizi/anaconda3/envs/timeinf/lib/python3.12/site-packages/kronfluence/factor/eigen.py:398: FutureWarning: `torch.cuda.amp.GradScaler(args...)` is deprecated. Please use `torch.amp.GradScaler('cuda', args...)` instead.\n",
      "  scaler = GradScaler(init_scale=factor_args.amp_scale, enabled=enable_grad_scaler)\n",
      "Fitting Lambda matrices [1/1] 100%|█████████████████████████ [time left: 00:00, time spent: 00:00]\n"
     ]
    }
   ],
   "source": [
    "analyzer.fit_all_factors(factors_name=\"initial_factor\", dataset=train_dataset)"
   ]
  },
  {
   "cell_type": "code",
   "execution_count": 40,
   "metadata": {},
   "outputs": [],
   "source": [
    "from kronfluence.arguments import ScoreArguments\n",
    "\n",
    "score_args = ScoreArguments(\n",
    "    compute_per_token_scores=False,\n",
    ")"
   ]
  },
  {
   "cell_type": "code",
   "execution_count": 59,
   "metadata": {},
   "outputs": [
    {
     "name": "stderr",
     "output_type": "stream",
     "text": [
      "/home/yizi/anaconda3/envs/timeinf/lib/python3.12/site-packages/kronfluence/score/self.py:205: FutureWarning: `torch.cuda.amp.GradScaler(args...)` is deprecated. Please use `torch.amp.GradScaler('cuda', args...)` instead.\n",
      "  scaler = GradScaler(init_scale=factor_args.amp_scale, enabled=enable_grad_scaler)\n",
      "Computing self-influence scores [1/1] 100%|█████████████████ [time left: 00:00, time spent: 00:00]\n"
     ]
    }
   ],
   "source": [
    "analyzer.compute_self_scores(\n",
    "    scores_name=\"self_score\",\n",
    "    factors_name=\"initial_factor\",\n",
    "    train_dataset=train_dataset,\n",
    "    overwrite_output_dir=True,\n",
    ")\n",
    "self_scores = analyzer.load_self_scores(scores_name=\"self_score\")"
   ]
  },
  {
   "cell_type": "code",
   "execution_count": 62,
   "metadata": {
    "colab": {
     "base_uri": "https://localhost:8080/",
     "height": 134
    },
    "id": "pMY6Z3OZci06",
    "outputId": "b3e39685-1aac-4a6a-96c1-46f4a7067762"
   },
   "outputs": [
    {
     "data": {
      "image/png": "[encoded data removed]",
      "text/plain": [
       "<Figure size 1500x100 with 1 Axes>"
      ]
     },
     "metadata": {},
     "output_type": "display_data"
    }
   ],
   "source": [
    "plt.figure(figsize=(15,1))\n",
    "plt.plot(self_scores[\"all_modules\"][100:200], c='k')\n",
    "plt.ylabel('self-influence')\n",
    "plt.show()"
   ]
  },
  {
   "cell_type": "code",
   "execution_count": null,
   "metadata": {
    "id": "L-MFLWOL4d1L"
   },
   "outputs": [],
   "source": []
  }
 ],
 "metadata": {
  "colab": {
   "provenance": []
  },
  "kernelspec": {
   "display_name": "Python 3 (ipykernel)",
   "language": "python",
   "name": "python3"
  },
  "language_info": {
   "codemirror_mode": {
    "name": "ipython",
    "version": 3
   },
   "file_extension": ".py",
   "mimetype": "text/x-python",
   "name": "python",
   "nbconvert_exporter": "python",
   "pygments_lexer": "ipython3",
   "version": "3.12.4"
  }
 },
 "nbformat": 4,
 "nbformat_minor": 4
}
