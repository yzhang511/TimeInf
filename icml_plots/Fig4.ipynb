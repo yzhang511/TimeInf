{
 "cells": [
  {
   "cell_type": "code",
   "execution_count": 1,
   "id": "c1d2d6cb-3d9f-4846-9418-6b4b8b57e2b1",
   "metadata": {},
   "outputs": [],
   "source": [
    "import os\n",
    "import numpy as np\n",
    "import pandas as pd\n",
    "from pathlib import Path\n",
    "import matplotlib.pyplot as plt"
   ]
  },
  {
   "cell_type": "code",
   "execution_count": 61,
   "id": "6e3811e1-92fd-406d-829e-b9c8dc429042",
   "metadata": {},
   "outputs": [],
   "source": [
    "%matplotlib inline\n",
    "plt.rc(\"figure\", dpi=100)\n",
    "SMALL_SIZE = 10\n",
    "BIGGER_SIZE = 11\n",
    "plt.rc('font', size=BIGGER_SIZE)\n",
    "plt.rc('axes', titlesize=BIGGER_SIZE)\n",
    "plt.rc('axes', labelsize=BIGGER_SIZE)\n",
    "plt.rc('axes', linewidth=.5)\n",
    "plt.rc('xtick', labelsize=BIGGER_SIZE)\n",
    "plt.rc('ytick', labelsize=BIGGER_SIZE)\n",
    "plt.rc('legend', fontsize=SMALL_SIZE)\n",
    "plt.rc('figure', titlesize=1)\n",
    "plt.rcParams['xtick.major.size'] = 5\n",
    "plt.rcParams['xtick.minor.size'] = 5\n",
    "plt.rcParams['ytick.major.size'] = 5\n",
    "plt.rcParams['ytick.minor.size'] = 5"
   ]
  },
  {
   "cell_type": "code",
   "execution_count": 7,
   "id": "5297c998-698d-4c14-ab7d-95380ae51491",
   "metadata": {},
   "outputs": [
    {
     "data": {
      "text/plain": [
       "['MSL_BlackBoxInfluenceFunctionDetector_RNN_results.csv',\n",
       " 'MSL_InfluenceFunctionDetector_results.csv',\n",
       " 'MSL_BlackBoxInfluenceFunctionDetector_LSTM_results.csv',\n",
       " 'SMAP_BlackBoxInfluenceFunctionDetector_RNN_results.csv',\n",
       " 'SMAP_InfluenceFunctionDetector_results.csv',\n",
       " 'SMAP_BlackBoxInfluenceFunctionDetector_LSTM_results.csv']"
      ]
     },
     "execution_count": 7,
     "metadata": {},
     "output_type": "execute_result"
    }
   ],
   "source": [
    "data_path = Path(\"agnosticity_results/\")\n",
    "os.listdir(data_path)"
   ]
  },
  {
   "cell_type": "code",
   "execution_count": 11,
   "id": "0767bf72-2d5c-4e23-b5d0-16fb1c4e7b3a",
   "metadata": {},
   "outputs": [],
   "source": [
    "datasets = [\"SMAP\", \"MSL\"]\n",
    "win_size = 50\n",
    "detectors = [\"Influence Function\", \"RNN\", \"LSTM\"]\n",
    "metrics = [\"AUC\", \"Elapsed Time(s)\"]"
   ]
  },
  {
   "cell_type": "code",
   "execution_count": 77,
   "id": "5aa3d547-23a1-45f8-bb89-4e45d2b48651",
   "metadata": {},
   "outputs": [
    {
     "data": {
      "image/png": "[encoded data removed]",
      "text/plain": [
       "<Figure size 600x500 with 4 Axes>"
      ]
     },
     "metadata": {},
     "output_type": "display_data"
    }
   ],
   "source": [
    "colors = ['dodgerblue', 'gold', 'coral']\n",
    "\n",
    "fig, axes = plt.subplots(2, 2, figsize=(6,5))\n",
    "for i, metric in enumerate(metrics):\n",
    "    dataframes = []\n",
    "    for j, dataset in enumerate([\"SMAP\", \"MSL\"]):\n",
    "        for filename in os.listdir(data_path):\n",
    "            if filename.split(\"_\")[1] == \"InfluenceFunctionDetector\":\n",
    "                detector_name = \"Influence Function\"\n",
    "                df = pd.read_csv(data_path/f'{dataset}_InfluenceFunctionDetector_results.csv')\n",
    "                df['Window_Size'] = win_size\n",
    "                df['Detector'] = detector_name\n",
    "                dataframes.append(df)\n",
    "            else:\n",
    "                detector_name = filename.split(\"_\")[2]\n",
    "                df = pd.read_csv(data_path/f'{dataset}_BlackBoxInfluenceFunctionDetector_{detector_name}_results.csv')\n",
    "                df['Window_Size'] = win_size\n",
    "                df['Detector'] = detector_name\n",
    "                dataframes.append(df)\n",
    "        combined_df = pd.concat(dataframes)\n",
    "        grouped_df = combined_df.groupby(['Detector'])[metric].mean()\n",
    "        grouped_df.plot(kind='bar', ax=axes[i,j], color=colors, width=0.6)\n",
    "        grouped_df.columns = [\"Influence Function\", \"LSTM\", \"RNN\"]\n",
    "        grouped_df = grouped_df.reindex(detectors)\n",
    "        axes[i,j].set_xticklabels(detectors, rotation=360)\n",
    "        axes[i,j].set_xlabel(\"\")\n",
    "        axes[0,0].set_ylabel(\"AUC\")\n",
    "        axes[1,0].set_ylabel(\"Time (s)\")\n",
    "        axes[i,j].set_xticklabels([\"Linear AR\", \"RNN\", \"LSTM\"])\n",
    "plt.tight_layout()"
   ]
  },
  {
   "cell_type": "code",
   "execution_count": null,
   "id": "28f8f5b6-f5db-431b-98ca-0d013453d443",
   "metadata": {},
   "outputs": [],
   "source": []
  },
  {
   "cell_type": "code",
   "execution_count": null,
   "id": "a052ff87-a6f7-4060-b071-2c26e8ce3af0",
   "metadata": {},
   "outputs": [],
   "source": []
  }
 ],
 "metadata": {
  "kernelspec": {
   "display_name": "Python 3 (ipykernel)",
   "language": "python",
   "name": "python3"
  },
  "language_info": {
   "codemirror_mode": {
    "name": "ipython",
    "version": 3
   },
   "file_extension": ".py",
   "mimetype": "text/x-python",
   "name": "python",
   "nbconvert_exporter": "python",
   "pygments_lexer": "ipython3",
   "version": "3.8.17"
  }
 },
 "nbformat": 4,
 "nbformat_minor": 5
}
